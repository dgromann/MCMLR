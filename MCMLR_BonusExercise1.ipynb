{
  "nbformat": 4,
  "nbformat_minor": 0,
  "metadata": {
    "colab": {
      "provenance": [],
      "collapsed_sections": [],
      "authorship_tag": "ABX9TyNB8t8SQVn3xERMDddBfvON",
      "include_colab_link": true
    },
    "kernelspec": {
      "name": "python3",
      "display_name": "Python 3"
    },
    "language_info": {
      "name": "python"
    }
  },
  "cells": [
    {
      "cell_type": "markdown",
      "metadata": {
        "id": "view-in-github",
        "colab_type": "text"
      },
      "source": [
        "<a href=\"https://colab.research.google.com/github/dgromann/MCMLR/blob/main/MCMLR_BonusExercise1.ipynb\" target=\"_parent\"><img src=\"https://colab.research.google.com/assets/colab-badge.svg\" alt=\"Open In Colab\"/></a>"
      ]
    },
    {
      "cell_type": "markdown",
      "source": [
        "\n",
        "# First Bonus Exercise\n",
        "\n",
        "This is a notebook for the first bonus exercise of the lecture \"Multilingual and Crosslingual Methods and Language Resources\". \n",
        "\n",
        "In this first exercise, you will automatically tag natural language sequences with Part-of-Speech (POS) tags and compare: \n",
        " English and two languages \n",
        "\n",
        "*   Three different multilingual tools \n",
        "*   Three different languages: English and two languages of different language families \n",
        "\n",
        "For the selection form different language families, please do not consider the highest level but the level of \"Germanic\" for English or \"Romance\" for Spanish. You can utilize Ethnologue (https://www.ethnologue.com/guides/ethnologue200) to search for languages and detect the language family (\"Classification\" when you click on a language). At least one person of your group should be able to speak the second language, the third can be any language of your choice (make sure the below tools support the languages you want to select!).\n",
        "\n",
        "Below you will find the code for all three POS taggers utilized for the comparison for English with tips on where to replace the code with the respective language. \n",
        "\n",
        "For this exercise, to be able to accommodate as many languages to choose from as possible, we will consider the first or max. first two sentences of the very generic Wikipedia page for \"House\" (https://en.wikipedia.org/wiki/House). \n",
        "\n",
        "*Step-wise instructions for this exercise:*\n",
        "\n",
        "\n",
        "1.   Select two languages and copy the Wikipedia sentences from the \"House\" entry in these languages (first or first two if the first is very short) \n",
        "2.   Run the code below for all three models for English \n",
        "3.   Extend the code to store the result in a file \n",
        "4.   Run each POS tagger on the other two languages and store the results \n",
        "5.   Compare the results of the POS taggers - which one  is more reliable for which language and why?\n",
        "6.   Compare the POS tags regarding similarities and differences of the three languages - what can we learn by this about the languages?\n",
        "7.   Submit your notebook and your answers to 5. and 6. on Moodle  \n",
        "\n",
        "\n"
      ],
      "metadata": {
        "id": "2Iv1f5SSedKi"
      }
    },
    {
      "cell_type": "markdown",
      "source": [
        "## POS Tagging with spaCy \n",
        "\n",
        "In order to POS tag a different language with the spaCy POS-Tagger, you need to load the correct model for the language. You can choose from the available languages here (https://spacy.io/usage/models) - this might restrict your possible choice of languages! \n",
        "\n",
        "\n"
      ],
      "metadata": {
        "id": "bzIY-SLeePND"
      }
    },
    {
      "cell_type": "code",
      "source": [
        "#spaCy is already pre-installed - no need to install it\n",
        "#Download the model for the correct language by replacing \"en_core_web_trf\"\n",
        "!python -m spacy download en_core_web_trf"
      ],
      "metadata": {
        "id": "PfgHrFhJbEe6"
      },
      "execution_count": null,
      "outputs": []
    },
    {
      "cell_type": "code",
      "source": [
        "import spacy\n",
        "\n",
        "#Replace the English model \"en_core_web_trf\" with the respecive language\n",
        "nlp = spacy.load(\"en_core_web_trf\")\n",
        "\n",
        "text = nlp(\"A house is a single-unit residential building. It may range in complexity from a rudimentary hut to a complex structure of wood, masonry, concrete or other material, outfitted with plumbing, electrical, and heating, ventilation, and air conditioning systems.\")\n",
        "\n",
        "print(text)\n",
        "\n",
        "for token in text:\n",
        "    print(token, token.pos_)"
      ],
      "metadata": {
        "id": "qR3F2KvxbGyu"
      },
      "execution_count": null,
      "outputs": []
    },
    {
      "cell_type": "markdown",
      "source": [
        "## POS Tagging with  Polyglot\n",
        "\n",
        "In order to run polyglot on a different language, you need to first download the corresponding model by replacing \"pos2.en\" with the corresponding language, e.g. for Spanish this would be \"pos2.es\". The list of supported languages and the meaning of the POS tags can be found here: https://polyglot.readthedocs.io/en/latest/POS.html  "
      ],
      "metadata": {
        "id": "mvDGh1ppcYvn"
      }
    },
    {
      "cell_type": "code",
      "execution_count": null,
      "metadata": {
        "id": "fhzYl6I-ZW7G"
      },
      "outputs": [],
      "source": [
        "#For Polyglot we need to install the library but also a lot of dependencies\n",
        "!pip install polyglot\n",
        "!pip install pyicu\n",
        "!pip install Morfessor\n",
        "!pip install pycld2"
      ]
    },
    {
      "cell_type": "code",
      "source": [
        "# Here ou need to replace \".en\" twice by the  two digit ISO code of your chosen language  (that is also supported by the tool)\n",
        "!polyglot download pos2.en\n",
        "!polyglot download embeddings2.en"
      ],
      "metadata": {
        "id": "IzqP2cD5eG6z"
      },
      "execution_count": null,
      "outputs": []
    },
    {
      "cell_type": "code",
      "source": [
        "from polyglot.detect import Detector\n",
        "from polyglot.text import Text\n",
        "\n",
        "input_text = \"A house is a single-unit residential building. It may range in complexity from a rudimentary hut to a complex structure of wood, masonry, concrete or other material, outfitted with plumbing, electrical, and heating, ventilation, and air conditioning systems.\"\n",
        "text = Text(input_text)\n",
        "print(text.pos_tags)"
      ],
      "metadata": {
        "id": "hlB3iJ3bcnm7"
      },
      "execution_count": null,
      "outputs": []
    },
    {
      "cell_type": "markdown",
      "source": [
        "#POS Tagging with FLAIR#\n",
        "\n",
        "FLAIR is a multilingual neural model and theoretically needs no adaptations for individual languages. So you only need to replace the input sentence by the sentence in a different language. More information on FLAIR can be found here: https://huggingface.co/flair/upos-multi\n",
        "\n",
        "\n",
        "FLAIR is not the newest model, but highly multilingual. If you prefer to use a different neural multilingual POS tagger or a language-specific POS tagger from Huggingface, feel free to replace the model for this last example of a POS tagger. "
      ],
      "metadata": {
        "id": "Vma2l_BYdqW2"
      }
    },
    {
      "cell_type": "code",
      "source": [
        "#First you have to install flair\n",
        "!pip install flair"
      ],
      "metadata": {
        "id": "c24Udg63hcxH"
      },
      "execution_count": null,
      "outputs": []
    },
    {
      "cell_type": "code",
      "source": [
        "from flair.data import Sentence\n",
        "from flair.models import SequenceTagger\n",
        "\n",
        "# Load tagger\n",
        "tagger = SequenceTagger.load(\"flair/upos-multi\")\n",
        "\n",
        "sentence = Sentence(\"A house is a single-unit residential building.\")\n",
        "\n",
        "tagger.predict(sentence)\n",
        "\n",
        "# print predicted NER spans\n",
        "print('The following NER tags are found:')\n",
        "# iterate over entities and print\n",
        "for entity in sentence:\n",
        "    print(entity)"
      ],
      "metadata": {
        "id": "DTteBNG490G2"
      },
      "execution_count": null,
      "outputs": []
    }
  ]
}