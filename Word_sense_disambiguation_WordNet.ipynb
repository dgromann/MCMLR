{
  "nbformat": 4,
  "nbformat_minor": 0,
  "metadata": {
    "colab": {
      "provenance": [],
      "authorship_tag": "ABX9TyNmXliHLDwy/qjWnyOMilm4",
      "include_colab_link": true
    },
    "kernelspec": {
      "name": "python3",
      "display_name": "Python 3"
    },
    "language_info": {
      "name": "python"
    }
  },
  "cells": [
    {
      "cell_type": "markdown",
      "metadata": {
        "id": "view-in-github",
        "colab_type": "text"
      },
      "source": [
        "<a href=\"https://colab.research.google.com/github/dgromann/MCMLR/blob/main/Word_sense_disambiguation_WordNet.ipynb\" target=\"_parent\"><img src=\"https://colab.research.google.com/assets/colab-badge.svg\" alt=\"Open In Colab\"/></a>"
      ]
    },
    {
      "cell_type": "code",
      "execution_count": null,
      "metadata": {
        "id": "QmFSd9RxxMNa"
      },
      "outputs": [],
      "source": [
        "!pip install nltk"
      ]
    },
    {
      "cell_type": "code",
      "source": [
        "import nltk\n",
        "nltk.download('wordnet')\n",
        "nltk.download('omw-1.4')"
      ],
      "metadata": {
        "id": "5cSo8VpuxlGP"
      },
      "execution_count": null,
      "outputs": []
    },
    {
      "cell_type": "code",
      "source": [
        "from nltk.corpus import wordnet as wn\n",
        "wn.synsets(\"bank\")"
      ],
      "metadata": {
        "colab": {
          "base_uri": "https://localhost:8080/"
        },
        "id": "2MlzLBYXxPJE",
        "outputId": "15612e7d-ef78-4824-9c07-dc18b7510bb9"
      },
      "execution_count": 9,
      "outputs": [
        {
          "output_type": "execute_result",
          "data": {
            "text/plain": [
              "[Synset('bank.n.01'),\n",
              " Synset('depository_financial_institution.n.01'),\n",
              " Synset('bank.n.03'),\n",
              " Synset('bank.n.04'),\n",
              " Synset('bank.n.05'),\n",
              " Synset('bank.n.06'),\n",
              " Synset('bank.n.07'),\n",
              " Synset('savings_bank.n.02'),\n",
              " Synset('bank.n.09'),\n",
              " Synset('bank.n.10'),\n",
              " Synset('bank.v.01'),\n",
              " Synset('bank.v.02'),\n",
              " Synset('bank.v.03'),\n",
              " Synset('bank.v.04'),\n",
              " Synset('bank.v.05'),\n",
              " Synset('deposit.v.02'),\n",
              " Synset('bank.v.07'),\n",
              " Synset('trust.v.01')]"
            ]
          },
          "metadata": {},
          "execution_count": 9
        }
      ]
    },
    {
      "cell_type": "code",
      "source": [
        "bank = wn.synset('bank.n.01')\n",
        "print(\"Definition: \", bank.definition())\n",
        "print(\"Hypernyms: \", bank.hypernyms())"
      ],
      "metadata": {
        "colab": {
          "base_uri": "https://localhost:8080/"
        },
        "id": "fC0FnaOExyYR",
        "outputId": "e97a56ff-89da-413c-a229-64b481868041"
      },
      "execution_count": 36,
      "outputs": [
        {
          "output_type": "stream",
          "name": "stdout",
          "text": [
            "Definition:  sloping land (especially the slope beside a body of water)\n",
            "Hypernyms:  [Synset('slope.n.01')]\n"
          ]
        }
      ]
    },
    {
      "cell_type": "code",
      "source": [
        "synonyms = []\n",
        "antonyms = []\n",
        "\n",
        "for syn in wn.synsets(\"bank\"):\n",
        "    for l in syn.lemmas():\n",
        "        synonyms.append(l.name())\n",
        "        if l.antonyms():\n",
        "            antonyms.append(l.antonyms()[0].name())\n",
        "\n",
        "print(set(synonyms))\n",
        "print(set(antonyms))"
      ],
      "metadata": {
        "colab": {
          "base_uri": "https://localhost:8080/"
        },
        "id": "ZWow_wuqyHNb",
        "outputId": "907be51d-86a3-4599-fc54-e27696c14ad7"
      },
      "execution_count": 22,
      "outputs": [
        {
          "output_type": "stream",
          "name": "stdout",
          "text": [
            "{'bank', 'swear', 'cant', 'savings_bank', 'trust', 'bank_building', 'banking_company', 'coin_bank', 'rely', 'banking_concern', 'deposit', 'camber', 'depository_financial_institution', 'money_box'}\n",
            "{'mistrust', 'withdraw'}\n"
          ]
        }
      ]
    }
  ]
}