{
  "nbformat": 4,
  "nbformat_minor": 0,
  "metadata": {
    "colab": {
      "provenance": [],
      "authorship_tag": "ABX9TyPzfZ9vJBkSHvL0Y88Ab9Zr",
      "include_colab_link": true
    },
    "kernelspec": {
      "name": "python3",
      "display_name": "Python 3"
    },
    "language_info": {
      "name": "python"
    }
  },
  "cells": [
    {
      "cell_type": "markdown",
      "metadata": {
        "id": "view-in-github",
        "colab_type": "text"
      },
      "source": [
        "<a href=\"https://colab.research.google.com/github/dgromann/MCMLR/blob/main/Word_sense_disambiguation_WordNet.ipynb\" target=\"_parent\"><img src=\"https://colab.research.google.com/assets/colab-badge.svg\" alt=\"Open In Colab\"/></a>"
      ]
    },
    {
      "cell_type": "markdown",
      "source": [
        "# Word Sense Disambiguation with WordNet\n",
        "\n",
        "This notebook provides an example of how to access WordNet from Python utilizing NLTK. \n",
        "\n",
        "First NLTK needs to be installed on Google Colab and then the required libraries need to be downloaded."
      ],
      "metadata": {
        "id": "RzMMI4lq2Bq1"
      }
    },
    {
      "cell_type": "code",
      "execution_count": null,
      "metadata": {
        "id": "QmFSd9RxxMNa"
      },
      "outputs": [],
      "source": [
        "!pip install nltk"
      ]
    },
    {
      "cell_type": "code",
      "source": [
        "import nltk\n",
        "nltk.download('wordnet')\n",
        "nltk.download('omw-1.4')"
      ],
      "metadata": {
        "id": "5cSo8VpuxlGP"
      },
      "execution_count": null,
      "outputs": []
    },
    {
      "cell_type": "markdown",
      "source": [
        "As a next step we can query all the synsets on WordNet for a specific word. "
      ],
      "metadata": {
        "id": "hm5RAlAo2Tvs"
      }
    },
    {
      "cell_type": "code",
      "source": [
        "from nltk.corpus import wordnet as wn\n",
        "wn.synsets(\"bank\")"
      ],
      "metadata": {
        "colab": {
          "base_uri": "https://localhost:8080/"
        },
        "id": "2MlzLBYXxPJE",
        "outputId": "68b63ad8-62d4-4084-d864-7d1abb266621"
      },
      "execution_count": null,
      "outputs": [
        {
          "output_type": "execute_result",
          "data": {
            "text/plain": [
              "[Synset('bank.n.01'),\n",
              " Synset('depository_financial_institution.n.01'),\n",
              " Synset('bank.n.03'),\n",
              " Synset('bank.n.04'),\n",
              " Synset('bank.n.05'),\n",
              " Synset('bank.n.06'),\n",
              " Synset('bank.n.07'),\n",
              " Synset('savings_bank.n.02'),\n",
              " Synset('bank.n.09'),\n",
              " Synset('bank.n.10'),\n",
              " Synset('bank.v.01'),\n",
              " Synset('bank.v.02'),\n",
              " Synset('bank.v.03'),\n",
              " Synset('bank.v.04'),\n",
              " Synset('bank.v.05'),\n",
              " Synset('deposit.v.02'),\n",
              " Synset('bank.v.07'),\n",
              " Synset('trust.v.01')]"
            ]
          },
          "metadata": {},
          "execution_count": 40
        }
      ]
    },
    {
      "cell_type": "markdown",
      "source": [
        "Then we can choose one synset and obtain its definition and its hypernyms."
      ],
      "metadata": {
        "id": "gwj8-zbm2YCJ"
      }
    },
    {
      "cell_type": "code",
      "source": [
        "bank = wn.synset('bank.n.01')\n",
        "print(\"Definition: \", bank.definition())\n",
        "print(\"Hypernyms: \", bank.hypernyms())"
      ],
      "metadata": {
        "colab": {
          "base_uri": "https://localhost:8080/"
        },
        "id": "fC0FnaOExyYR",
        "outputId": "7a8201f9-a796-4030-f26a-e20dff1deb23"
      },
      "execution_count": null,
      "outputs": [
        {
          "output_type": "stream",
          "name": "stdout",
          "text": [
            "Definition:  sloping land (especially the slope beside a body of water)\n",
            "Hypernyms:  [Synset('slope.n.01')]\n"
          ]
        }
      ]
    },
    {
      "cell_type": "markdown",
      "source": [
        "Maybe we also want to find all synonyms and antonyms for a specific word in WordNet."
      ],
      "metadata": {
        "id": "k0Kekx3t2d-F"
      }
    },
    {
      "cell_type": "code",
      "source": [
        "synonyms = []\n",
        "antonyms = []\n",
        "\n",
        "for syn in wn.synsets(\"bank\"):\n",
        "    for l in syn.lemmas():\n",
        "        synonyms.append(l.name())\n",
        "        if l.antonyms():\n",
        "            antonyms.append(l.antonyms()[0].name())\n",
        "\n",
        "print(set(synonyms))\n",
        "print(set(antonyms))"
      ],
      "metadata": {
        "colab": {
          "base_uri": "https://localhost:8080/"
        },
        "id": "ZWow_wuqyHNb",
        "outputId": "907be51d-86a3-4599-fc54-e27696c14ad7"
      },
      "execution_count": null,
      "outputs": [
        {
          "output_type": "stream",
          "name": "stdout",
          "text": [
            "{'bank', 'swear', 'cant', 'savings_bank', 'trust', 'bank_building', 'banking_company', 'coin_bank', 'rely', 'banking_concern', 'deposit', 'camber', 'depository_financial_institution', 'money_box'}\n",
            "{'mistrust', 'withdraw'}\n"
          ]
        }
      ]
    },
    {
      "cell_type": "markdown",
      "source": [
        "WordNet can then be used with simple algorithms to disambiguate a word occurring in a specific sentence. For instance, the Lesk algorithm can be used to this end. This algorithm counts the overal between the words in the sentence and the synonyms and words in the definitions of a synset.  "
      ],
      "metadata": {
        "id": "vbwAu6yZ2hxj"
      }
    },
    {
      "cell_type": "code",
      "source": [
        "from nltk.corpus import wordnet as wn\n",
        "\n",
        "def lesk(sentence, ambiguous_word):\n",
        "    max_overlaps = 0\n",
        "    lesk_dictionary = []\n",
        "    lesk_sense = \"\"\n",
        "    context = sentence.split()\n",
        "\n",
        "    for sense in wn.synsets(ambiguous_word):\n",
        "        lesk_dictionary += sense.definition().split()\n",
        "        lesk_dictionary += sense.lemma_names()\n",
        "          \n",
        "        overlaps = set(lesk_dictionary).intersection(context)\n",
        "\n",
        "        if len(overlaps) > max_overlaps:\n",
        "            lesk_sense = sense\n",
        "            max_overlaps = len(overlaps)  \n",
        "    return str(lesk_sense)\n",
        "\n",
        "sentence = \"The bank on the riverside was full of dead fishes.\"\n",
        "sense = lesk(sentence, \"bank\")\n",
        "print(sense)"
      ],
      "metadata": {
        "id": "hxsgw7xE1_Wa"
      },
      "execution_count": null,
      "outputs": []
    }
  ]
}